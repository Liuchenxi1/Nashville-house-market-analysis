{
 "cells": [
  {
   "cell_type": "code",
   "execution_count": 1,
   "id": "28148c66",
   "metadata": {},
   "outputs": [],
   "source": [
    "import pandas as pd\n",
    "import numpy as np\n",
    "import matplotlib.pyplot as plt"
   ]
  },
  {
   "cell_type": "code",
   "execution_count": 2,
   "id": "b19724be",
   "metadata": {},
   "outputs": [],
   "source": [
    "v2010 = pd.read_csv('C:/Users/6106057/nss-data-analytics/projects/go_to_themoon/data/2010 vacancy rates.csv')\n",
    "v2020 = pd.read_csv('C:/Users/6106057/nss-data-analytics/projects/go_to_themoon/data/2020 vacancy rates.csv')"
   ]
  },
  {
   "cell_type": "code",
   "execution_count": 3,
   "id": "46f5e76f",
   "metadata": {},
   "outputs": [
    {
     "data": {
      "text/html": [
       "<div>\n",
       "<style scoped>\n",
       "    .dataframe tbody tr th:only-of-type {\n",
       "        vertical-align: middle;\n",
       "    }\n",
       "\n",
       "    .dataframe tbody tr th {\n",
       "        vertical-align: top;\n",
       "    }\n",
       "\n",
       "    .dataframe thead th {\n",
       "        text-align: right;\n",
       "    }\n",
       "</style>\n",
       "<table border=\"1\" class=\"dataframe\">\n",
       "  <thead>\n",
       "    <tr style=\"text-align: right;\">\n",
       "      <th></th>\n",
       "      <th>Estimate!!Total</th>\n",
       "      <th>Margin of Error!!Total</th>\n",
       "      <th>Estimate!!Total!!Occupied</th>\n",
       "      <th>Margin of Error!!Total!!Occupied</th>\n",
       "      <th>Estimate!!Total!!Vacant</th>\n",
       "      <th>Geographic Area Name</th>\n",
       "    </tr>\n",
       "  </thead>\n",
       "  <tbody>\n",
       "    <tr>\n",
       "      <th>0</th>\n",
       "      <td>2168806</td>\n",
       "      <td>4582</td>\n",
       "      <td>1879479</td>\n",
       "      <td>10315</td>\n",
       "      <td>289327</td>\n",
       "      <td>Atlanta</td>\n",
       "    </tr>\n",
       "    <tr>\n",
       "      <th>1</th>\n",
       "      <td>4493949</td>\n",
       "      <td>5156</td>\n",
       "      <td>4188650</td>\n",
       "      <td>11266</td>\n",
       "      <td>305299</td>\n",
       "      <td>Los Angeles</td>\n",
       "    </tr>\n",
       "    <tr>\n",
       "      <th>2</th>\n",
       "      <td>669349</td>\n",
       "      <td>3207</td>\n",
       "      <td>599775</td>\n",
       "      <td>5439</td>\n",
       "      <td>69574</td>\n",
       "      <td>Nashville</td>\n",
       "    </tr>\n",
       "  </tbody>\n",
       "</table>\n",
       "</div>"
      ],
      "text/plain": [
       "   Estimate!!Total  Margin of Error!!Total  Estimate!!Total!!Occupied  \\\n",
       "0          2168806                    4582                    1879479   \n",
       "1          4493949                    5156                    4188650   \n",
       "2           669349                    3207                     599775   \n",
       "\n",
       "   Margin of Error!!Total!!Occupied  Estimate!!Total!!Vacant  \\\n",
       "0                             10315                   289327   \n",
       "1                             11266                   305299   \n",
       "2                              5439                    69574   \n",
       "\n",
       "  Geographic Area Name  \n",
       "0              Atlanta  \n",
       "1          Los Angeles  \n",
       "2            Nashville  "
      ]
     },
     "execution_count": 3,
     "metadata": {},
     "output_type": "execute_result"
    }
   ],
   "source": [
    "v2010.head()"
   ]
  },
  {
   "cell_type": "code",
   "execution_count": 4,
   "id": "91432202",
   "metadata": {},
   "outputs": [
    {
     "data": {
      "text/plain": [
       "Index(['Geographic Area Name', ' !!Total:', ' !!Total:!!Occupied',\n",
       "       ' !!Total:!!Vacant'],\n",
       "      dtype='object')"
      ]
     },
     "execution_count": 4,
     "metadata": {},
     "output_type": "execute_result"
    }
   ],
   "source": [
    "v2020.columns"
   ]
  },
  {
   "cell_type": "code",
   "execution_count": 5,
   "id": "ae6de0a1",
   "metadata": {},
   "outputs": [],
   "source": [
    "v2010 = v2010.drop(['Margin of Error!!Total', 'Margin of Error!!Total!!Occupied'], axis =1)"
   ]
  },
  {
   "cell_type": "code",
   "execution_count": 6,
   "id": "0c698b11",
   "metadata": {},
   "outputs": [
    {
     "data": {
      "text/html": [
       "<div>\n",
       "<style scoped>\n",
       "    .dataframe tbody tr th:only-of-type {\n",
       "        vertical-align: middle;\n",
       "    }\n",
       "\n",
       "    .dataframe tbody tr th {\n",
       "        vertical-align: top;\n",
       "    }\n",
       "\n",
       "    .dataframe thead th {\n",
       "        text-align: right;\n",
       "    }\n",
       "</style>\n",
       "<table border=\"1\" class=\"dataframe\">\n",
       "  <thead>\n",
       "    <tr style=\"text-align: right;\">\n",
       "      <th></th>\n",
       "      <th>Estimate!!Total</th>\n",
       "      <th>Estimate!!Total!!Occupied</th>\n",
       "      <th>Estimate!!Total!!Vacant</th>\n",
       "      <th>Geographic Area Name</th>\n",
       "    </tr>\n",
       "  </thead>\n",
       "  <tbody>\n",
       "    <tr>\n",
       "      <th>0</th>\n",
       "      <td>2168806</td>\n",
       "      <td>1879479</td>\n",
       "      <td>289327</td>\n",
       "      <td>Atlanta</td>\n",
       "    </tr>\n",
       "    <tr>\n",
       "      <th>1</th>\n",
       "      <td>4493949</td>\n",
       "      <td>4188650</td>\n",
       "      <td>305299</td>\n",
       "      <td>Los Angeles</td>\n",
       "    </tr>\n",
       "    <tr>\n",
       "      <th>2</th>\n",
       "      <td>669349</td>\n",
       "      <td>599775</td>\n",
       "      <td>69574</td>\n",
       "      <td>Nashville</td>\n",
       "    </tr>\n",
       "  </tbody>\n",
       "</table>\n",
       "</div>"
      ],
      "text/plain": [
       "   Estimate!!Total  Estimate!!Total!!Occupied  Estimate!!Total!!Vacant  \\\n",
       "0          2168806                    1879479                   289327   \n",
       "1          4493949                    4188650                   305299   \n",
       "2           669349                     599775                    69574   \n",
       "\n",
       "  Geographic Area Name  \n",
       "0              Atlanta  \n",
       "1          Los Angeles  \n",
       "2            Nashville  "
      ]
     },
     "execution_count": 6,
     "metadata": {},
     "output_type": "execute_result"
    }
   ],
   "source": [
    "v2010.head()"
   ]
  },
  {
   "cell_type": "code",
   "execution_count": 7,
   "id": "ae2f2fbc",
   "metadata": {},
   "outputs": [],
   "source": [
    "v2010 = v2010.rename(columns = {'Estimate!!Total':'2010total',\n",
    "                                'Estimate!!Total!!Occupied':'2010occupied',\n",
    "                                'Estimate!!Total!!Vacant':'2010vacant'})"
   ]
  },
  {
   "cell_type": "code",
   "execution_count": 8,
   "id": "73e05319",
   "metadata": {},
   "outputs": [
    {
     "data": {
      "text/html": [
       "<div>\n",
       "<style scoped>\n",
       "    .dataframe tbody tr th:only-of-type {\n",
       "        vertical-align: middle;\n",
       "    }\n",
       "\n",
       "    .dataframe tbody tr th {\n",
       "        vertical-align: top;\n",
       "    }\n",
       "\n",
       "    .dataframe thead th {\n",
       "        text-align: right;\n",
       "    }\n",
       "</style>\n",
       "<table border=\"1\" class=\"dataframe\">\n",
       "  <thead>\n",
       "    <tr style=\"text-align: right;\">\n",
       "      <th></th>\n",
       "      <th>2010total</th>\n",
       "      <th>2010occupied</th>\n",
       "      <th>2010vacant</th>\n",
       "      <th>Geographic Area Name</th>\n",
       "    </tr>\n",
       "  </thead>\n",
       "  <tbody>\n",
       "    <tr>\n",
       "      <th>0</th>\n",
       "      <td>2168806</td>\n",
       "      <td>1879479</td>\n",
       "      <td>289327</td>\n",
       "      <td>Atlanta</td>\n",
       "    </tr>\n",
       "    <tr>\n",
       "      <th>1</th>\n",
       "      <td>4493949</td>\n",
       "      <td>4188650</td>\n",
       "      <td>305299</td>\n",
       "      <td>Los Angeles</td>\n",
       "    </tr>\n",
       "    <tr>\n",
       "      <th>2</th>\n",
       "      <td>669349</td>\n",
       "      <td>599775</td>\n",
       "      <td>69574</td>\n",
       "      <td>Nashville</td>\n",
       "    </tr>\n",
       "  </tbody>\n",
       "</table>\n",
       "</div>"
      ],
      "text/plain": [
       "   2010total  2010occupied  2010vacant Geographic Area Name\n",
       "0    2168806       1879479      289327              Atlanta\n",
       "1    4493949       4188650      305299          Los Angeles\n",
       "2     669349        599775       69574            Nashville"
      ]
     },
     "execution_count": 8,
     "metadata": {},
     "output_type": "execute_result"
    }
   ],
   "source": [
    "v2010.head()"
   ]
  },
  {
   "cell_type": "code",
   "execution_count": 9,
   "id": "d431033a",
   "metadata": {},
   "outputs": [],
   "source": [
    "v2020 = v2020.rename(columns = {' !!Total:':'2020total',' !!Total:!!Occupied':'2020occupied',' !!Total:!!Vacant':'2020vacant'})"
   ]
  },
  {
   "cell_type": "code",
   "execution_count": 10,
   "id": "fe7b4cb4",
   "metadata": {},
   "outputs": [
    {
     "data": {
      "text/html": [
       "<div>\n",
       "<style scoped>\n",
       "    .dataframe tbody tr th:only-of-type {\n",
       "        vertical-align: middle;\n",
       "    }\n",
       "\n",
       "    .dataframe tbody tr th {\n",
       "        vertical-align: top;\n",
       "    }\n",
       "\n",
       "    .dataframe thead th {\n",
       "        text-align: right;\n",
       "    }\n",
       "</style>\n",
       "<table border=\"1\" class=\"dataframe\">\n",
       "  <thead>\n",
       "    <tr style=\"text-align: right;\">\n",
       "      <th></th>\n",
       "      <th>Geographic Area Name</th>\n",
       "      <th>2020total</th>\n",
       "      <th>2020occupied</th>\n",
       "      <th>2020vacant</th>\n",
       "    </tr>\n",
       "  </thead>\n",
       "  <tbody>\n",
       "    <tr>\n",
       "      <th>0</th>\n",
       "      <td>Atlanta</td>\n",
       "      <td>2414292</td>\n",
       "      <td>2258264</td>\n",
       "      <td>156028</td>\n",
       "    </tr>\n",
       "    <tr>\n",
       "      <th>1</th>\n",
       "      <td>Los Angeles</td>\n",
       "      <td>4721766</td>\n",
       "      <td>4494733</td>\n",
       "      <td>227033</td>\n",
       "    </tr>\n",
       "    <tr>\n",
       "      <th>2</th>\n",
       "      <td>Nashville</td>\n",
       "      <td>828009</td>\n",
       "      <td>772530</td>\n",
       "      <td>55479</td>\n",
       "    </tr>\n",
       "  </tbody>\n",
       "</table>\n",
       "</div>"
      ],
      "text/plain": [
       "  Geographic Area Name  2020total  2020occupied  2020vacant\n",
       "0              Atlanta    2414292       2258264      156028\n",
       "1          Los Angeles    4721766       4494733      227033\n",
       "2            Nashville     828009        772530       55479"
      ]
     },
     "execution_count": 10,
     "metadata": {},
     "output_type": "execute_result"
    }
   ],
   "source": [
    "v2020"
   ]
  },
  {
   "cell_type": "code",
   "execution_count": 11,
   "id": "25e99b4b",
   "metadata": {},
   "outputs": [],
   "source": [
    "vancy = pd.merge(v2010, v2020, how = \"outer\", on =['Geographic Area Name'])"
   ]
  },
  {
   "cell_type": "code",
   "execution_count": 12,
   "id": "2b9d726d",
   "metadata": {},
   "outputs": [
    {
     "data": {
      "text/html": [
       "<div>\n",
       "<style scoped>\n",
       "    .dataframe tbody tr th:only-of-type {\n",
       "        vertical-align: middle;\n",
       "    }\n",
       "\n",
       "    .dataframe tbody tr th {\n",
       "        vertical-align: top;\n",
       "    }\n",
       "\n",
       "    .dataframe thead th {\n",
       "        text-align: right;\n",
       "    }\n",
       "</style>\n",
       "<table border=\"1\" class=\"dataframe\">\n",
       "  <thead>\n",
       "    <tr style=\"text-align: right;\">\n",
       "      <th></th>\n",
       "      <th>2010total</th>\n",
       "      <th>2010occupied</th>\n",
       "      <th>2010vacant</th>\n",
       "      <th>Geographic Area Name</th>\n",
       "      <th>2020total</th>\n",
       "      <th>2020occupied</th>\n",
       "      <th>2020vacant</th>\n",
       "    </tr>\n",
       "  </thead>\n",
       "  <tbody>\n",
       "    <tr>\n",
       "      <th>0</th>\n",
       "      <td>2168806</td>\n",
       "      <td>1879479</td>\n",
       "      <td>289327</td>\n",
       "      <td>Atlanta</td>\n",
       "      <td>2414292</td>\n",
       "      <td>2258264</td>\n",
       "      <td>156028</td>\n",
       "    </tr>\n",
       "    <tr>\n",
       "      <th>1</th>\n",
       "      <td>4493949</td>\n",
       "      <td>4188650</td>\n",
       "      <td>305299</td>\n",
       "      <td>Los Angeles</td>\n",
       "      <td>4721766</td>\n",
       "      <td>4494733</td>\n",
       "      <td>227033</td>\n",
       "    </tr>\n",
       "    <tr>\n",
       "      <th>2</th>\n",
       "      <td>669349</td>\n",
       "      <td>599775</td>\n",
       "      <td>69574</td>\n",
       "      <td>Nashville</td>\n",
       "      <td>828009</td>\n",
       "      <td>772530</td>\n",
       "      <td>55479</td>\n",
       "    </tr>\n",
       "  </tbody>\n",
       "</table>\n",
       "</div>"
      ],
      "text/plain": [
       "   2010total  2010occupied  2010vacant Geographic Area Name  2020total  \\\n",
       "0    2168806       1879479      289327              Atlanta    2414292   \n",
       "1    4493949       4188650      305299          Los Angeles    4721766   \n",
       "2     669349        599775       69574            Nashville     828009   \n",
       "\n",
       "   2020occupied  2020vacant  \n",
       "0       2258264      156028  \n",
       "1       4494733      227033  \n",
       "2        772530       55479  "
      ]
     },
     "execution_count": 12,
     "metadata": {},
     "output_type": "execute_result"
    }
   ],
   "source": [
    "vancy.head()"
   ]
  },
  {
   "cell_type": "code",
   "execution_count": 13,
   "id": "c83d29c5",
   "metadata": {},
   "outputs": [],
   "source": [
    "vancy['2010rate'] = (vancy['2010vacant']/vancy['2010total'])*100"
   ]
  },
  {
   "cell_type": "code",
   "execution_count": 14,
   "id": "ae89ee1c",
   "metadata": {},
   "outputs": [],
   "source": [
    "vancy['2020rate'] = (vancy['2020vacant']/vancy['2020total'])*100"
   ]
  },
  {
   "cell_type": "code",
   "execution_count": 15,
   "id": "1098343b",
   "metadata": {},
   "outputs": [
    {
     "data": {
      "text/html": [
       "<div>\n",
       "<style scoped>\n",
       "    .dataframe tbody tr th:only-of-type {\n",
       "        vertical-align: middle;\n",
       "    }\n",
       "\n",
       "    .dataframe tbody tr th {\n",
       "        vertical-align: top;\n",
       "    }\n",
       "\n",
       "    .dataframe thead th {\n",
       "        text-align: right;\n",
       "    }\n",
       "</style>\n",
       "<table border=\"1\" class=\"dataframe\">\n",
       "  <thead>\n",
       "    <tr style=\"text-align: right;\">\n",
       "      <th></th>\n",
       "      <th>2010total</th>\n",
       "      <th>2010occupied</th>\n",
       "      <th>2010vacant</th>\n",
       "      <th>Geographic Area Name</th>\n",
       "      <th>2020total</th>\n",
       "      <th>2020occupied</th>\n",
       "      <th>2020vacant</th>\n",
       "      <th>2010rate</th>\n",
       "      <th>2020rate</th>\n",
       "    </tr>\n",
       "  </thead>\n",
       "  <tbody>\n",
       "    <tr>\n",
       "      <th>0</th>\n",
       "      <td>2168806</td>\n",
       "      <td>1879479</td>\n",
       "      <td>289327</td>\n",
       "      <td>Atlanta</td>\n",
       "      <td>2414292</td>\n",
       "      <td>2258264</td>\n",
       "      <td>156028</td>\n",
       "      <td>13.340382</td>\n",
       "      <td>6.462681</td>\n",
       "    </tr>\n",
       "    <tr>\n",
       "      <th>1</th>\n",
       "      <td>4493949</td>\n",
       "      <td>4188650</td>\n",
       "      <td>305299</td>\n",
       "      <td>Los Angeles</td>\n",
       "      <td>4721766</td>\n",
       "      <td>4494733</td>\n",
       "      <td>227033</td>\n",
       "      <td>6.793557</td>\n",
       "      <td>4.808222</td>\n",
       "    </tr>\n",
       "    <tr>\n",
       "      <th>2</th>\n",
       "      <td>669349</td>\n",
       "      <td>599775</td>\n",
       "      <td>69574</td>\n",
       "      <td>Nashville</td>\n",
       "      <td>828009</td>\n",
       "      <td>772530</td>\n",
       "      <td>55479</td>\n",
       "      <td>10.394279</td>\n",
       "      <td>6.700289</td>\n",
       "    </tr>\n",
       "  </tbody>\n",
       "</table>\n",
       "</div>"
      ],
      "text/plain": [
       "   2010total  2010occupied  2010vacant Geographic Area Name  2020total  \\\n",
       "0    2168806       1879479      289327              Atlanta    2414292   \n",
       "1    4493949       4188650      305299          Los Angeles    4721766   \n",
       "2     669349        599775       69574            Nashville     828009   \n",
       "\n",
       "   2020occupied  2020vacant   2010rate  2020rate  \n",
       "0       2258264      156028  13.340382  6.462681  \n",
       "1       4494733      227033   6.793557  4.808222  \n",
       "2        772530       55479  10.394279  6.700289  "
      ]
     },
     "execution_count": 15,
     "metadata": {},
     "output_type": "execute_result"
    }
   ],
   "source": [
    "vancy.head()"
   ]
  },
  {
   "cell_type": "raw",
   "id": "4b54d5c4",
   "metadata": {},
   "source": [
    "vancy[\"Geographic Area Name\"] = [\"Los Angeles\", \"Atlanta\",\"Nashville\"]\n",
    "#Not change anything from the name just the list order"
   ]
  },
  {
   "cell_type": "code",
   "execution_count": 16,
   "id": "1b201757",
   "metadata": {},
   "outputs": [
    {
     "data": {
      "text/plain": [
       "[669349, 2168806, 4493949]"
      ]
     },
     "execution_count": 16,
     "metadata": {},
     "output_type": "execute_result"
    }
   ],
   "source": []
  },
  {
   "cell_type": "code",
   "execution_count": 20,
   "id": "3376a871",
   "metadata": {},
   "outputs": [
    {
     "data": {
      "text/html": [
       "<div>\n",
       "<style scoped>\n",
       "    .dataframe tbody tr th:only-of-type {\n",
       "        vertical-align: middle;\n",
       "    }\n",
       "\n",
       "    .dataframe tbody tr th {\n",
       "        vertical-align: top;\n",
       "    }\n",
       "\n",
       "    .dataframe thead th {\n",
       "        text-align: right;\n",
       "    }\n",
       "</style>\n",
       "<table border=\"1\" class=\"dataframe\">\n",
       "  <thead>\n",
       "    <tr style=\"text-align: right;\">\n",
       "      <th></th>\n",
       "      <th>2010total</th>\n",
       "      <th>2010occupied</th>\n",
       "      <th>2010vacant</th>\n",
       "      <th>Geographic Area Name</th>\n",
       "      <th>2020total</th>\n",
       "      <th>2020occupied</th>\n",
       "      <th>2020vacant</th>\n",
       "      <th>2010rate</th>\n",
       "      <th>2020rate</th>\n",
       "    </tr>\n",
       "  </thead>\n",
       "  <tbody>\n",
       "    <tr>\n",
       "      <th>0</th>\n",
       "      <td>2168806</td>\n",
       "      <td>1879479</td>\n",
       "      <td>289327</td>\n",
       "      <td>Atlanta</td>\n",
       "      <td>2414292</td>\n",
       "      <td>2258264</td>\n",
       "      <td>156028</td>\n",
       "      <td>13.340382</td>\n",
       "      <td>6.462681</td>\n",
       "    </tr>\n",
       "    <tr>\n",
       "      <th>1</th>\n",
       "      <td>4493949</td>\n",
       "      <td>4188650</td>\n",
       "      <td>305299</td>\n",
       "      <td>Los Angeles</td>\n",
       "      <td>4721766</td>\n",
       "      <td>4494733</td>\n",
       "      <td>227033</td>\n",
       "      <td>6.793557</td>\n",
       "      <td>4.808222</td>\n",
       "    </tr>\n",
       "    <tr>\n",
       "      <th>2</th>\n",
       "      <td>669349</td>\n",
       "      <td>599775</td>\n",
       "      <td>69574</td>\n",
       "      <td>Nashville</td>\n",
       "      <td>828009</td>\n",
       "      <td>772530</td>\n",
       "      <td>55479</td>\n",
       "      <td>10.394279</td>\n",
       "      <td>6.700289</td>\n",
       "    </tr>\n",
       "  </tbody>\n",
       "</table>\n",
       "</div>"
      ],
      "text/plain": [
       "   2010total  2010occupied  2010vacant Geographic Area Name  2020total  \\\n",
       "0    2168806       1879479      289327              Atlanta    2414292   \n",
       "1    4493949       4188650      305299          Los Angeles    4721766   \n",
       "2     669349        599775       69574            Nashville     828009   \n",
       "\n",
       "   2020occupied  2020vacant   2010rate  2020rate  \n",
       "0       2258264      156028  13.340382  6.462681  \n",
       "1       4494733      227033   6.793557  4.808222  \n",
       "2        772530       55479  10.394279  6.700289  "
      ]
     },
     "execution_count": 20,
     "metadata": {},
     "output_type": "execute_result"
    }
   ],
   "source": [
    "vancy"
   ]
  },
  {
   "cell_type": "code",
   "execution_count": 18,
   "id": "b00edc85",
   "metadata": {},
   "outputs": [
    {
     "data": {
      "text/plain": [
       "<AxesSubplot:xlabel='Geographic Area Name'>"
      ]
     },
     "execution_count": 18,
     "metadata": {},
     "output_type": "execute_result"
    },
    {
     "data": {
      "image/png": "[encoded data removed]",
      "text/plain": [
       "<Figure size 432x288 with 1 Axes>"
      ]
     },
     "metadata": {
      "needs_background": "light"
     },
     "output_type": "display_data"
    }
   ],
   "source": []
  },
  {
   "cell_type": "code",
   "execution_count": 19,
   "id": "4b9dad50",
   "metadata": {},
   "outputs": [
    {
     "ename": "ValueError",
     "evalue": "too many values to unpack (expected 2)",
     "output_type": "error",
     "traceback": [
      "\u001b[1;31m---------------------------------------------------------------------------\u001b[0m",
      "\u001b[1;31mValueError\u001b[0m                                Traceback (most recent call last)",
      "\u001b[1;32m<ipython-input-19-bdb2b7b96985>\u001b[0m in \u001b[0;36m<module>\u001b[1;34m\u001b[0m\n\u001b[1;32m----> 1\u001b[1;33m \u001b[0mx\u001b[0m\u001b[1;33m=\u001b[0m\u001b[0mvancy\u001b[0m\u001b[1;33m[\u001b[0m\u001b[1;34m\"Geographic Area Name\"\u001b[0m\u001b[1;33m]\u001b[0m\u001b[1;33m,\u001b[0m \u001b[0my\u001b[0m\u001b[1;33m=\u001b[0m\u001b[0mvancy\u001b[0m\u001b[1;33m[\u001b[0m\u001b[1;34m\"2010rate\"\u001b[0m\u001b[1;33m]\u001b[0m\u001b[1;33m\u001b[0m\u001b[1;33m\u001b[0m\u001b[0m\n\u001b[0m\u001b[0;32m      2\u001b[0m \u001b[1;33m\u001b[0m\u001b[0m\n\u001b[0;32m      3\u001b[0m \u001b[0mfig\u001b[0m\u001b[1;33m,\u001b[0m\u001b[0max\u001b[0m \u001b[1;33m=\u001b[0m \u001b[0mplt\u001b[0m\u001b[1;33m.\u001b[0m\u001b[0msubplots\u001b[0m\u001b[1;33m(\u001b[0m\u001b[1;33m)\u001b[0m\u001b[1;33m\u001b[0m\u001b[1;33m\u001b[0m\u001b[0m\n\u001b[0;32m      4\u001b[0m \u001b[0mwidth\u001b[0m \u001b[1;33m=\u001b[0m \u001b[1;36m0.75\u001b[0m\u001b[1;33m\u001b[0m\u001b[1;33m\u001b[0m\u001b[0m\n\u001b[0;32m      5\u001b[0m \u001b[0mind\u001b[0m \u001b[1;33m=\u001b[0m \u001b[0mnp\u001b[0m\u001b[1;33m.\u001b[0m\u001b[0marange\u001b[0m\u001b[1;33m(\u001b[0m\u001b[0mlen\u001b[0m\u001b[1;33m(\u001b[0m\u001b[0my\u001b[0m\u001b[1;33m)\u001b[0m\u001b[1;33m)\u001b[0m\u001b[1;33m\u001b[0m\u001b[1;33m\u001b[0m\u001b[0m\n",
      "\u001b[1;31mValueError\u001b[0m: too many values to unpack (expected 2)"
     ]
    }
   ],
   "source": [
    "x=vancy[\"Geographic Area Name\"], y=vancy[\"2010rate\"]\n",
    "\n",
    "fig,ax = plt.subplots()\n",
    "width = 0.75\n",
    "ind = np.arange(len(y))\n",
    "\n",
    "ax.barh(ind, y, width, color = \"green\")\n",
    "  \n",
    "for i, v in enumerate(y):\n",
    "    ax.text(v + 3, i + .25, str(v), \n",
    "            color = ('green', 'skyblue'), fontweight = 'bold')\n",
    "plt.show()\n"
   ]
  }
 ],
 "metadata": {
  "kernelspec": {
   "display_name": "Python 3",
   "language": "python",
   "name": "python3"
  },
  "language_info": {
   "codemirror_mode": {
    "name": "ipython",
    "version": 3
   },
   "file_extension": ".py",
   "mimetype": "text/x-python",
   "name": "python",
   "nbconvert_exporter": "python",
   "pygments_lexer": "ipython3",
   "version": "3.8.8"
  }
 },
 "nbformat": 4,
 "nbformat_minor": 5
}
