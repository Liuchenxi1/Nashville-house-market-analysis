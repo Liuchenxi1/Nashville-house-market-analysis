{
 "cells": [
  {
   "cell_type": "code",
   "execution_count": 1,
   "id": "5c3c1b93",
   "metadata": {},
   "outputs": [],
   "source": [
    "import pandas as pd\n",
    "import numpy as np\n",
    "import matplotlib.pyplot as plt"
   ]
  },
  {
   "cell_type": "code",
   "execution_count": 2,
   "id": "3836bfb0",
   "metadata": {},
   "outputs": [],
   "source": [
    "three = pd.read_csv('C:/Users/6106057/nss-data-analytics/projects/go_to_themoon/data/cities_new.csv')"
   ]
  },
  {
   "cell_type": "code",
   "execution_count": 3,
   "id": "407b83d4",
   "metadata": {},
   "outputs": [],
   "source": [
    "three = three.rename(columns = {'Unnamed: 0': 'years'})"
   ]
  },
  {
   "cell_type": "code",
   "execution_count": 4,
   "id": "6eb27710",
   "metadata": {},
   "outputs": [
    {
     "data": {
      "text/html": [
       "<div>\n",
       "<style scoped>\n",
       "    .dataframe tbody tr th:only-of-type {\n",
       "        vertical-align: middle;\n",
       "    }\n",
       "\n",
       "    .dataframe tbody tr th {\n",
       "        vertical-align: top;\n",
       "    }\n",
       "\n",
       "    .dataframe thead th {\n",
       "        text-align: right;\n",
       "    }\n",
       "</style>\n",
       "<table border=\"1\" class=\"dataframe\">\n",
       "  <thead>\n",
       "    <tr style=\"text-align: right;\">\n",
       "      <th></th>\n",
       "      <th>years</th>\n",
       "      <th>la</th>\n",
       "      <th>atlanta</th>\n",
       "      <th>nashville</th>\n",
       "    </tr>\n",
       "  </thead>\n",
       "  <tbody>\n",
       "    <tr>\n",
       "      <th>0</th>\n",
       "      <td>2000-01-31</td>\n",
       "      <td>231209.0</td>\n",
       "      <td>153650.0</td>\n",
       "      <td>144859.0</td>\n",
       "    </tr>\n",
       "    <tr>\n",
       "      <th>1</th>\n",
       "      <td>2000-02-29</td>\n",
       "      <td>232014.0</td>\n",
       "      <td>154161.0</td>\n",
       "      <td>145116.0</td>\n",
       "    </tr>\n",
       "    <tr>\n",
       "      <th>2</th>\n",
       "      <td>2000-03-31</td>\n",
       "      <td>233247.0</td>\n",
       "      <td>154687.0</td>\n",
       "      <td>145353.0</td>\n",
       "    </tr>\n",
       "    <tr>\n",
       "      <th>3</th>\n",
       "      <td>2000-04-30</td>\n",
       "      <td>235592.0</td>\n",
       "      <td>155751.0</td>\n",
       "      <td>145862.0</td>\n",
       "    </tr>\n",
       "    <tr>\n",
       "      <th>4</th>\n",
       "      <td>2000-05-31</td>\n",
       "      <td>238105.0</td>\n",
       "      <td>156792.0</td>\n",
       "      <td>146318.0</td>\n",
       "    </tr>\n",
       "  </tbody>\n",
       "</table>\n",
       "</div>"
      ],
      "text/plain": [
       "        years        la   atlanta  nashville\n",
       "0  2000-01-31  231209.0  153650.0   144859.0\n",
       "1  2000-02-29  232014.0  154161.0   145116.0\n",
       "2  2000-03-31  233247.0  154687.0   145353.0\n",
       "3  2000-04-30  235592.0  155751.0   145862.0\n",
       "4  2000-05-31  238105.0  156792.0   146318.0"
      ]
     },
     "execution_count": 4,
     "metadata": {},
     "output_type": "execute_result"
    }
   ],
   "source": [
    "three.head()"
   ]
  },
  {
   "cell_type": "code",
   "execution_count": 5,
   "id": "14f2e111",
   "metadata": {},
   "outputs": [
    {
     "data": {
      "text/html": [
       "<div>\n",
       "<style scoped>\n",
       "    .dataframe tbody tr th:only-of-type {\n",
       "        vertical-align: middle;\n",
       "    }\n",
       "\n",
       "    .dataframe tbody tr th {\n",
       "        vertical-align: top;\n",
       "    }\n",
       "\n",
       "    .dataframe thead th {\n",
       "        text-align: right;\n",
       "    }\n",
       "</style>\n",
       "<table border=\"1\" class=\"dataframe\">\n",
       "  <thead>\n",
       "    <tr style=\"text-align: right;\">\n",
       "      <th></th>\n",
       "      <th>0</th>\n",
       "      <th>1</th>\n",
       "    </tr>\n",
       "  </thead>\n",
       "  <tbody>\n",
       "    <tr>\n",
       "      <th>0</th>\n",
       "      <td>2000</td>\n",
       "      <td>01-31</td>\n",
       "    </tr>\n",
       "    <tr>\n",
       "      <th>1</th>\n",
       "      <td>2000</td>\n",
       "      <td>02-29</td>\n",
       "    </tr>\n",
       "    <tr>\n",
       "      <th>2</th>\n",
       "      <td>2000</td>\n",
       "      <td>03-31</td>\n",
       "    </tr>\n",
       "    <tr>\n",
       "      <th>3</th>\n",
       "      <td>2000</td>\n",
       "      <td>04-30</td>\n",
       "    </tr>\n",
       "    <tr>\n",
       "      <th>4</th>\n",
       "      <td>2000</td>\n",
       "      <td>05-31</td>\n",
       "    </tr>\n",
       "  </tbody>\n",
       "</table>\n",
       "</div>"
      ],
      "text/plain": [
       "      0      1\n",
       "0  2000  01-31\n",
       "1  2000  02-29\n",
       "2  2000  03-31\n",
       "3  2000  04-30\n",
       "4  2000  05-31"
      ]
     },
     "execution_count": 5,
     "metadata": {},
     "output_type": "execute_result"
    }
   ],
   "source": [
    "year_1 = three['years'].str.split(\"-\", n=1 ,expand = True)\n",
    "year_1.head()"
   ]
  },
  {
   "cell_type": "code",
   "execution_count": 6,
   "id": "68170db3",
   "metadata": {},
   "outputs": [],
   "source": [
    "three['years'] = year_1[0]"
   ]
  },
  {
   "cell_type": "code",
   "execution_count": 7,
   "id": "020af67b",
   "metadata": {},
   "outputs": [
    {
     "data": {
      "text/html": [
       "<div>\n",
       "<style scoped>\n",
       "    .dataframe tbody tr th:only-of-type {\n",
       "        vertical-align: middle;\n",
       "    }\n",
       "\n",
       "    .dataframe tbody tr th {\n",
       "        vertical-align: top;\n",
       "    }\n",
       "\n",
       "    .dataframe thead th {\n",
       "        text-align: right;\n",
       "    }\n",
       "</style>\n",
       "<table border=\"1\" class=\"dataframe\">\n",
       "  <thead>\n",
       "    <tr style=\"text-align: right;\">\n",
       "      <th></th>\n",
       "      <th>years</th>\n",
       "      <th>la</th>\n",
       "      <th>atlanta</th>\n",
       "      <th>nashville</th>\n",
       "    </tr>\n",
       "  </thead>\n",
       "  <tbody>\n",
       "    <tr>\n",
       "      <th>0</th>\n",
       "      <td>2000</td>\n",
       "      <td>231209.0</td>\n",
       "      <td>153650.0</td>\n",
       "      <td>144859.0</td>\n",
       "    </tr>\n",
       "    <tr>\n",
       "      <th>1</th>\n",
       "      <td>2000</td>\n",
       "      <td>232014.0</td>\n",
       "      <td>154161.0</td>\n",
       "      <td>145116.0</td>\n",
       "    </tr>\n",
       "    <tr>\n",
       "      <th>2</th>\n",
       "      <td>2000</td>\n",
       "      <td>233247.0</td>\n",
       "      <td>154687.0</td>\n",
       "      <td>145353.0</td>\n",
       "    </tr>\n",
       "    <tr>\n",
       "      <th>3</th>\n",
       "      <td>2000</td>\n",
       "      <td>235592.0</td>\n",
       "      <td>155751.0</td>\n",
       "      <td>145862.0</td>\n",
       "    </tr>\n",
       "    <tr>\n",
       "      <th>4</th>\n",
       "      <td>2000</td>\n",
       "      <td>238105.0</td>\n",
       "      <td>156792.0</td>\n",
       "      <td>146318.0</td>\n",
       "    </tr>\n",
       "  </tbody>\n",
       "</table>\n",
       "</div>"
      ],
      "text/plain": [
       "  years        la   atlanta  nashville\n",
       "0  2000  231209.0  153650.0   144859.0\n",
       "1  2000  232014.0  154161.0   145116.0\n",
       "2  2000  233247.0  154687.0   145353.0\n",
       "3  2000  235592.0  155751.0   145862.0\n",
       "4  2000  238105.0  156792.0   146318.0"
      ]
     },
     "execution_count": 7,
     "metadata": {},
     "output_type": "execute_result"
    }
   ],
   "source": [
    "three.head()"
   ]
  },
  {
   "cell_type": "code",
   "execution_count": 12,
   "id": "8c572abd",
   "metadata": {},
   "outputs": [
    {
     "data": {
      "text/plain": [
       "dtype('int64')"
      ]
     },
     "execution_count": 12,
     "metadata": {},
     "output_type": "execute_result"
    }
   ],
   "source": [
    "three['years'] = pd.to_numeric(three['years'], errors ='coerce')\n",
    "three.years.dtypes"
   ]
  },
  {
   "cell_type": "code",
   "execution_count": 18,
   "id": "6232f349",
   "metadata": {},
   "outputs": [
    {
     "name": "stdout",
     "output_type": "stream",
     "text": [
      "    years        la   atlanta  nashville\n",
      "0    2000  241694.5  158305.0   146834.0\n",
      "1    2001  268696.0  169810.5   151711.5\n",
      "2    2002  304232.5  177725.5   155104.0\n",
      "3    2003  362779.5  182164.5   158384.5\n",
      "4    2004  460960.0  186384.5   163617.5\n",
      "5    2005  552321.5  192875.0   172707.5\n",
      "6    2006  626513.5  199982.0   185473.5\n",
      "7    2007  613716.0  203633.5   195410.5\n",
      "8    2008  502144.0  193712.5   194236.5\n",
      "9    2009  428972.0  166694.0   184739.0\n",
      "10   2010  432961.0  157945.5   181323.0\n",
      "11   2011  407897.0  135265.0   173381.0\n",
      "12   2012  399115.0  134562.5   171487.0\n",
      "13   2013  474028.5  148980.0   179458.0\n",
      "14   2014  516416.5  168520.0   190401.0\n",
      "15   2015  542245.0  179083.0   204003.0\n",
      "16   2016  579373.0  191412.5   225050.0\n",
      "17   2017  614921.5  204815.0   249479.5\n",
      "18   2018  660781.0  224004.0   271180.5\n",
      "19   2019  663721.5  239124.5   283145.5\n",
      "20   2020  694658.0  250559.0   298674.0\n",
      "21   2021  783132.0  286399.0   331843.0\n"
     ]
    },
    {
     "name": "stderr",
     "output_type": "stream",
     "text": [
      "<ipython-input-18-1174aaf365e5>:1: FutureWarning: Indexing with multiple keys (implicitly converted to a tuple of keys) will be deprecated, use a list instead.\n",
      "  yearmedian = three.groupby(['years'])['la','atlanta','nashville'].median().reset_index()\n"
     ]
    }
   ],
   "source": [
    "yearmedian = three.groupby(['years'])['la','atlanta','nashville'].median().reset_index()\n",
    "print(yearmedian)"
   ]
  },
  {
   "cell_type": "code",
   "execution_count": 56,
   "id": "0196fb17",
   "metadata": {
    "scrolled": true
   },
   "outputs": [
    {
     "data": {
      "image/png": "[encoded data removed]",
      "text/plain": [
       "<Figure size 432x288 with 1 Axes>"
      ]
     },
     "metadata": {
      "needs_background": "light"
     },
     "output_type": "display_data"
    }
   ],
   "source": [
    "yearsmedian.set_index('years').plot()\n",
    "\n",
    "plt.legend()\n",
    "\n",
    "plt.show()\n",
    "\n",
    "##useful but can't change the colors."
   ]
  },
  {
   "cell_type": "code",
   "execution_count": 70,
   "id": "52cf5a37",
   "metadata": {},
   "outputs": [
    {
     "data": {
      "image/png": "[encoded data removed]",
      "text/plain": [
       "<Figure size 432x288 with 1 Axes>"
      ]
     },
     "metadata": {
      "needs_background": "light"
     },
     "output_type": "display_data"
    }
   ],
   "source": [
    "plt.plot('years','la',data=yearsmedian, color='skyblue',linewidth = 2)\n",
    "plt.plot('years', 'atlanta', data=yearsmedian, color= 'black',linewidth = 2)\n",
    "plt.plot('years', 'nashville', data=yearsmedian, color='yellow',linewidth = 2)\n",
    "##plt.locator_params(axis='x', nbins=10)\n",
    "\n",
    "plt.xlabel('years')\n",
    "\n",
    "plt.legend()\n",
    "\n",
    "plt.show()"
   ]
  },
  {
   "cell_type": "code",
   "execution_count": null,
   "id": "75f9c5b4",
   "metadata": {},
   "outputs": [],
   "source": []
  }
 ],
 "metadata": {
  "kernelspec": {
   "display_name": "Python 3",
   "language": "python",
   "name": "python3"
  },
  "language_info": {
   "codemirror_mode": {
    "name": "ipython",
    "version": 3
   },
   "file_extension": ".py",
   "mimetype": "text/x-python",
   "name": "python",
   "nbconvert_exporter": "python",
   "pygments_lexer": "ipython3",
   "version": "3.8.8"
  }
 },
 "nbformat": 4,
 "nbformat_minor": 5
}
